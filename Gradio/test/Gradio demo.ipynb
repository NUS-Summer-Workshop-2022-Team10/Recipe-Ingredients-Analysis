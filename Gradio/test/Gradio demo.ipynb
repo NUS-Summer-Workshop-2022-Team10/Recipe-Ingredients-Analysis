{
 "cells": [
  {
   "cell_type": "code",
   "execution_count": 81,
   "id": "3a5806ba",
   "metadata": {},
   "outputs": [],
   "source": [
    "import gradio as gr\n",
    "import matplotlib.pyplot as plt\n",
    "import torch\n",
    "import torch.nn as nn\n",
    "import numpy as np\n",
    "import os\n",
    "from args import get_parser\n",
    "import pickle\n",
    "from model import get_model\n",
    "from torchvision import transforms\n",
    "from utils.output_utils import prepare_output\n",
    "from PIL import Image\n",
    "import time\n",
    "from matplotlib import cm"
   ]
  },
  {
   "cell_type": "code",
   "execution_count": 3,
   "id": "5fe3fb3b",
   "metadata": {},
   "outputs": [],
   "source": [
    "data_dir = '../data'"
   ]
  },
  {
   "cell_type": "code",
   "execution_count": 4,
   "id": "d1dd9537",
   "metadata": {},
   "outputs": [],
   "source": [
    "# code will run in gpu if available and if the flag is set to True, else it will run on cpu\n",
    "use_gpu = False\n",
    "device = torch.device('cuda' if torch.cuda.is_available() and use_gpu else 'cpu')\n",
    "map_loc = None if torch.cuda.is_available() and use_gpu else 'cpu'"
   ]
  },
  {
   "cell_type": "code",
   "execution_count": 5,
   "id": "308140f9",
   "metadata": {},
   "outputs": [],
   "source": [
    "# code below was used to save vocab files so that they can be loaded without Vocabulary class\n",
    "#ingrs_vocab = pickle.load(open(os.path.join(data_dir, 'final_recipe1m_vocab_ingrs.pkl'), 'rb'))\n",
    "#ingrs_vocab = [min(w, key=len) if not isinstance(w, str) else w for w in ingrs_vocab.idx2word.values()]\n",
    "#vocab = pickle.load(open(os.path.join(data_dir, 'final_recipe1m_vocab_toks.pkl'), 'rb')).idx2word\n",
    "#pickle.dump(ingrs_vocab, open('../demo/ingr_vocab.pkl', 'wb'))\n",
    "#pickle.dump(vocab, open('../demo/instr_vocab.pkl', 'wb'))\n",
    "\n",
    "ingrs_vocab = pickle.load(open(os.path.join(data_dir, 'ingr_vocab.pkl'), 'rb'))\n",
    "vocab = pickle.load(open(os.path.join(data_dir, 'instr_vocab.pkl'), 'rb'))\n",
    "\n",
    "ingr_vocab_size = len(ingrs_vocab)\n",
    "instrs_vocab_size = len(vocab)\n",
    "output_dim = instrs_vocab_size"
   ]
  },
  {
   "cell_type": "code",
   "execution_count": 6,
   "id": "5a821427",
   "metadata": {},
   "outputs": [
    {
     "name": "stderr",
     "output_type": "stream",
     "text": [
      "/home/ivan/anaconda3/envs/icook/lib/python3.7/site-packages/torch/nn/_reduction.py:42: UserWarning: size_average and reduce args will be deprecated, please use reduction='none' instead.\n",
      "  warnings.warn(warning.format(ret))\n"
     ]
    }
   ],
   "source": [
    "t = time.time()\n",
    "import sys; sys.argv=['']; del sys\n",
    "args = get_parser()\n",
    "args.maxseqlen = 15\n",
    "args.ingrs_only=False\n",
    "model = get_model(args, ingr_vocab_size, instrs_vocab_size)\n",
    "# Load the trained model parameters\n",
    "model_path = os.path.join(data_dir, 'modelbest.ckpt')\n",
    "model.load_state_dict(torch.load(model_path, map_location=map_loc))\n",
    "model.to(device)\n",
    "model.eval()\n",
    "model.ingrs_only = False\n",
    "model.recipe_only = False"
   ]
  },
  {
   "cell_type": "code",
   "execution_count": 7,
   "id": "42cd9138",
   "metadata": {},
   "outputs": [],
   "source": [
    "transf_list_batch = []\n",
    "transf_list_batch.append(transforms.ToTensor())\n",
    "transf_list_batch.append(transforms.Normalize((0.485, 0.456, 0.406), \n",
    "                                              (0.229, 0.224, 0.225)))\n",
    "to_input_transf = transforms.Compose(transf_list_batch)"
   ]
  },
  {
   "cell_type": "code",
   "execution_count": 8,
   "id": "59785e0a",
   "metadata": {},
   "outputs": [],
   "source": [
    "greedy = [True, False, False, False]\n",
    "beam = [-1, -1, -1, -1]\n",
    "temperature = 1.0\n",
    "numgens = len(greedy)"
   ]
  },
  {
   "cell_type": "code",
   "execution_count": 9,
   "id": "01218ec2",
   "metadata": {},
   "outputs": [],
   "source": [
    "import requests\n",
    "from io import BytesIO\n",
    "import random\n",
    "from collections import Counter\n",
    "use_urls = False # set to true to load images from demo_urls instead of those in test_imgs folder\n",
    "show_anyways = False #if True, it will show the recipe even if it's not valid\n",
    "image_folder = os.path.join(data_dir, 'demo_imgs')\n",
    "\n",
    "if not use_urls:\n",
    "    demo_imgs = os.listdir(image_folder)\n",
    "    random.shuffle(demo_imgs)\n",
    "\n",
    "demo_urls = ['https://food.fnr.sndimg.com/content/dam/images/food/fullset/2013/12/9/0/FNK_Cheesecake_s4x3.jpg.rend.hgtvcom.826.620.suffix/1387411272847.jpeg',\n",
    "            'https://www.196flavors.com/wp-content/uploads/2014/10/california-roll-3-FP.jpg']\n"
   ]
  },
  {
   "cell_type": "code",
   "execution_count": 86,
   "id": "274295a2",
   "metadata": {},
   "outputs": [],
   "source": [
    "def igredent(img):\n",
    "    \n",
    "    title = \"\"\n",
    "    ingredents = \"\"\n",
    "    recipes = \"\"\n",
    "    transf_list = []\n",
    "    transf_list.append(transforms.Resize(256))\n",
    "    transf_list.append(transforms.CenterCrop(224))\n",
    "    transform = transforms.Compose(transf_list)\n",
    "    \n",
    "    image = Image.fromarray(img.astype('uint8'), 'RGB')\n",
    "    image_transf = transform(image)\n",
    "    image_tensor = to_input_transf(image_transf).unsqueeze(0).to(device)\n",
    "    \n",
    "#     plt.imshow(image_transf)\n",
    "#     plt.axis('off')\n",
    "#     plt.show()\n",
    "#     plt.close()\n",
    "    \n",
    "    num_valid = 1\n",
    "#     for i in range(numgens):\n",
    "    with torch.no_grad():\n",
    "        outputs = model.sample(image_tensor, greedy=True, \n",
    "                               temperature=temperature, beam=-1, true_ingrs=None)\n",
    "\n",
    "    ingr_ids = outputs['ingr_ids'].cpu().numpy()\n",
    "    recipe_ids = outputs['recipe_ids'].cpu().numpy()\n",
    "\n",
    "    outs, valid = prepare_output(recipe_ids[0], ingr_ids[0], ingrs_vocab, vocab)\n",
    "\n",
    "    if valid['is_valid'] or show_anyways:\n",
    "\n",
    "#             print ('RECIPE', num_valid)\n",
    "#             num_valid+=1\n",
    "        #print (\"greedy:\", greedy[i], \"beam:\", beam[i])\n",
    "\n",
    "        title = outs['title']\n",
    "\n",
    "        for ingr in outs['ingrs']:\n",
    "            ingredents = ingredents  + ingr + ','\n",
    "#         text_return = text_return + '\\nInstructions:'\n",
    "        for recipe in outs['recipe']:\n",
    "            recipes = recipes + '\\n-' + recipe\n",
    "\n",
    "#         text_return = text_return + '='*20\n",
    "\n",
    "    else:\n",
    "        pass\n",
    "        text_return.append(\"Not a valid recipe!\")\n",
    "        text_return.append(\"Reason: \", valid['reason'])\n",
    "    return title,ingredents,recipes"
   ]
  },
  {
   "cell_type": "code",
   "execution_count": 71,
   "id": "a184bec9",
   "metadata": {},
   "outputs": [
    {
     "data": {
      "text/plain": [
       "('Garlic shrimp scampi',\n",
       " ', shrimp, pepper, butter, clove, oil, salt, pasta, parsley',\n",
       " '-\\n-Heat olive oil in a large skillet over medium heat.-\\n-Cook and stir garlic in hot oil until fragrant, about 1 minute.-\\n-Stir shrimp into garlic; cook and stir until shrimp are pink and opaque, about 3 minutes.-\\n-Season with salt and pepper.-\\n-Stir butter into shrimp mixture until melted and sauce is heated through, about 2 minutes.-\\n-Stir parsley into shrimp mixture; cook and stir until heated through, about 1 minute.')"
      ]
     },
     "execution_count": 71,
     "metadata": {},
     "output_type": "execute_result"
    }
   ],
   "source": [
    "image_path = os.path.join('../data/demo_imgs', '1.jpg')\n",
    "image = Image.open(image_path).convert('RGB')\n",
    "igredent(image)"
   ]
  },
  {
   "cell_type": "code",
   "execution_count": 83,
   "id": "f9aabcc0",
   "metadata": {},
   "outputs": [
    {
     "ename": "AssertionError",
     "evalue": "",
     "output_type": "error",
     "traceback": [
      "\u001b[0;31m---------------------------------------------------------------------------\u001b[0m",
      "\u001b[0;31mAssertionError\u001b[0m                            Traceback (most recent call last)",
      "\u001b[0;32m/tmp/ipykernel_14905/181420487.py\u001b[0m in \u001b[0;36m<module>\u001b[0;34m\u001b[0m\n\u001b[1;32m      3\u001b[0m     \u001b[0mgr\u001b[0m\u001b[0;34m.\u001b[0m\u001b[0mImage\u001b[0m\u001b[0;34m,\u001b[0m\u001b[0;34m\u001b[0m\u001b[0;34m\u001b[0m\u001b[0m\n\u001b[1;32m      4\u001b[0m \u001b[0;34m\u001b[0m\u001b[0m\n\u001b[0;32m----> 5\u001b[0;31m     \u001b[0moutputs\u001b[0m\u001b[0;34m=\u001b[0m\u001b[0;34m[\u001b[0m\u001b[0;34m\"text\"\u001b[0m\u001b[0;34m,\u001b[0m \u001b[0;34m\"text\"\u001b[0m\u001b[0;34m,\u001b[0m\u001b[0;34m\"text\"\u001b[0m\u001b[0;34m]\u001b[0m\u001b[0;34m,\u001b[0m\u001b[0;34m\u001b[0m\u001b[0;34m\u001b[0m\u001b[0m\n\u001b[0m\u001b[1;32m      6\u001b[0m \u001b[0;31m#     flagging_options=[\"blurry\", \"incorrect\", \"other\"],\u001b[0m\u001b[0;34m\u001b[0m\u001b[0;34m\u001b[0m\u001b[0;34m\u001b[0m\u001b[0m\n\u001b[1;32m      7\u001b[0m \u001b[0;31m#     examples=[\u001b[0m\u001b[0;34m\u001b[0m\u001b[0;34m\u001b[0m\u001b[0;34m\u001b[0m\u001b[0m\n",
      "\u001b[0;32m~/anaconda3/envs/icook/lib/python3.7/site-packages/gradio/interface.py\u001b[0m in \u001b[0;36m__init__\u001b[0;34m(self, fn, inputs, outputs, examples, cache_examples, examples_per_page, live, interpretation, num_shap, title, description, article, thumbnail, theme, css, allow_flagging, flagging_options, flagging_dir, flagging_callback, analytics_enabled, batch, max_batch_size, _api_mode, **kwargs)\u001b[0m\n\u001b[1;32m    200\u001b[0m             \u001b[0mself\u001b[0m\u001b[0;34m.\u001b[0m\u001b[0minterface_type\u001b[0m \u001b[0;34m=\u001b[0m \u001b[0mInterfaceTypes\u001b[0m\u001b[0;34m.\u001b[0m\u001b[0mOUTPUT_ONLY\u001b[0m\u001b[0;34m\u001b[0m\u001b[0;34m\u001b[0m\u001b[0m\n\u001b[1;32m    201\u001b[0m \u001b[0;34m\u001b[0m\u001b[0m\n\u001b[0;32m--> 202\u001b[0;31m         \u001b[0;32massert\u001b[0m \u001b[0misinstance\u001b[0m\u001b[0;34m(\u001b[0m\u001b[0minputs\u001b[0m\u001b[0;34m,\u001b[0m \u001b[0;34m(\u001b[0m\u001b[0mstr\u001b[0m\u001b[0;34m,\u001b[0m \u001b[0mlist\u001b[0m\u001b[0;34m,\u001b[0m \u001b[0mIOComponent\u001b[0m\u001b[0;34m)\u001b[0m\u001b[0;34m)\u001b[0m\u001b[0;34m\u001b[0m\u001b[0;34m\u001b[0m\u001b[0m\n\u001b[0m\u001b[1;32m    203\u001b[0m         \u001b[0;32massert\u001b[0m \u001b[0misinstance\u001b[0m\u001b[0;34m(\u001b[0m\u001b[0moutputs\u001b[0m\u001b[0;34m,\u001b[0m \u001b[0;34m(\u001b[0m\u001b[0mstr\u001b[0m\u001b[0;34m,\u001b[0m \u001b[0mlist\u001b[0m\u001b[0;34m,\u001b[0m \u001b[0mIOComponent\u001b[0m\u001b[0;34m)\u001b[0m\u001b[0;34m)\u001b[0m\u001b[0;34m\u001b[0m\u001b[0;34m\u001b[0m\u001b[0m\n\u001b[1;32m    204\u001b[0m \u001b[0;34m\u001b[0m\u001b[0m\n",
      "\u001b[0;31mAssertionError\u001b[0m: "
     ]
    }
   ],
   "source": [
    "demo = gr.Interface(\n",
    "    igredent,\n",
    "    gr.Image,\n",
    "    \n",
    "    outputs=[\"text\", \"text\",\"text\"],\n",
    "#     flagging_options=[\"blurry\", \"incorrect\", \"other\"],\n",
    "#     examples=[\n",
    "#         os.path.join(\"../data/demo_imgs/\", \"../data/demo_imgs/1.jpg\"),\n",
    "#         os.path.join(\"../data/demo_imgs/\", \"../data/demo_imgs/2.jpg\"),\n",
    "#         os.path.join(\"../data/demo_imgs/\", \"../data/demo_imgs/3.jpg\"),\n",
    "#         os.path.join(\"../data/demo_imgs/\", \"../data/demo_imgs/4.jpg\"),\n",
    "#     ],\n",
    ")\n",
    "\n"
   ]
  },
  {
   "cell_type": "code",
   "execution_count": 87,
   "id": "beaa193e",
   "metadata": {},
   "outputs": [],
   "source": [
    "demo = gr.Interface(fn=igredent, inputs=[gr.Image()], outputs=[\"text\", \"text\",\"text\"],\n",
    "        examples=[\n",
    "        os.path.join(\"../data/demo_imgs/\", \"1.jpg\"),\n",
    "        os.path.join(\"../data/demo_imgs/\", \"2.jpg\"),\n",
    "        os.path.join(\"../data/demo_imgs/\", \"3.jpg\"),\n",
    "        os.path.join(\"../data/demo_imgs/\", \"4.jpg\"),\n",
    "    ],)"
   ]
  },
  {
   "cell_type": "code",
   "execution_count": 88,
   "id": "e04efff1",
   "metadata": {},
   "outputs": [
    {
     "name": "stdout",
     "output_type": "stream",
     "text": [
      "Running on local URL:  http://127.0.0.1:7864\n",
      "\n",
      "To create a public link, set `share=True` in `launch()`.\n"
     ]
    },
    {
     "data": {
      "text/html": [
       "<div><iframe src=\"http://127.0.0.1:7864/\" width=\"100%\" height=\"500\" allow=\"autoplay; camera; microphone; clipboard-read; clipboard-write;\" frameborder=\"0\" allowfullscreen></iframe></div>"
      ],
      "text/plain": [
       "<IPython.core.display.HTML object>"
      ]
     },
     "metadata": {},
     "output_type": "display_data"
    },
    {
     "name": "stderr",
     "output_type": "stream",
     "text": [
      "ERROR:    Exception in ASGI application\n",
      "Traceback (most recent call last):\n",
      "  File \"/home/ivan/anaconda3/envs/icook/lib/python3.7/site-packages/uvicorn/protocols/http/h11_impl.py\", line 408, in run_asgi\n",
      "    self.scope, self.receive, self.send\n",
      "  File \"/home/ivan/anaconda3/envs/icook/lib/python3.7/site-packages/uvicorn/middleware/proxy_headers.py\", line 78, in __call__\n",
      "    return await self.app(scope, receive, send)\n",
      "  File \"/home/ivan/anaconda3/envs/icook/lib/python3.7/site-packages/fastapi/applications.py\", line 270, in __call__\n",
      "    await super().__call__(scope, receive, send)\n",
      "  File \"/home/ivan/anaconda3/envs/icook/lib/python3.7/site-packages/starlette/applications.py\", line 124, in __call__\n",
      "    await self.middleware_stack(scope, receive, send)\n",
      "  File \"/home/ivan/anaconda3/envs/icook/lib/python3.7/site-packages/starlette/middleware/errors.py\", line 184, in __call__\n",
      "    raise exc\n",
      "  File \"/home/ivan/anaconda3/envs/icook/lib/python3.7/site-packages/starlette/middleware/errors.py\", line 162, in __call__\n",
      "    await self.app(scope, receive, _send)\n",
      "  File \"/home/ivan/anaconda3/envs/icook/lib/python3.7/site-packages/starlette/middleware/cors.py\", line 84, in __call__\n",
      "    await self.app(scope, receive, send)\n",
      "  File \"/home/ivan/anaconda3/envs/icook/lib/python3.7/site-packages/starlette/middleware/exceptions.py\", line 79, in __call__\n",
      "    raise exc\n",
      "  File \"/home/ivan/anaconda3/envs/icook/lib/python3.7/site-packages/starlette/middleware/exceptions.py\", line 68, in __call__\n",
      "    await self.app(scope, receive, sender)\n",
      "  File \"/home/ivan/anaconda3/envs/icook/lib/python3.7/site-packages/fastapi/middleware/asyncexitstack.py\", line 21, in __call__\n",
      "    raise e\n",
      "  File \"/home/ivan/anaconda3/envs/icook/lib/python3.7/site-packages/fastapi/middleware/asyncexitstack.py\", line 18, in __call__\n",
      "    await self.app(scope, receive, send)\n",
      "  File \"/home/ivan/anaconda3/envs/icook/lib/python3.7/site-packages/starlette/routing.py\", line 706, in __call__\n",
      "    await route.handle(scope, receive, send)\n",
      "  File \"/home/ivan/anaconda3/envs/icook/lib/python3.7/site-packages/starlette/routing.py\", line 276, in handle\n",
      "    await self.app(scope, receive, send)\n",
      "  File \"/home/ivan/anaconda3/envs/icook/lib/python3.7/site-packages/starlette/routing.py\", line 66, in app\n",
      "    response = await func(request)\n",
      "  File \"/home/ivan/anaconda3/envs/icook/lib/python3.7/site-packages/fastapi/routing.py\", line 238, in app\n",
      "    dependant=dependant, values=values, is_coroutine=is_coroutine\n",
      "  File \"/home/ivan/anaconda3/envs/icook/lib/python3.7/site-packages/fastapi/routing.py\", line 163, in run_endpoint_function\n",
      "    return await dependant.call(**values)\n",
      "  File \"/home/ivan/anaconda3/envs/icook/lib/python3.7/site-packages/gradio/routes.py\", line 294, in file\n",
      "    f\"File cannot be fetched: {path}. All files must contained within the Gradio python app working directory, or be a temp file created by the Gradio python app.\"\n",
      "ValueError: File cannot be fetched: /home/ivan/Program/Inversecook/inversecooking-master/data/demo_imgs/2.jpg. All files must contained within the Gradio python app working directory, or be a temp file created by the Gradio python app.\n",
      "ERROR:    Exception in ASGI application\n",
      "Traceback (most recent call last):\n",
      "  File \"/home/ivan/anaconda3/envs/icook/lib/python3.7/site-packages/uvicorn/protocols/http/h11_impl.py\", line 408, in run_asgi\n",
      "    self.scope, self.receive, self.send\n",
      "  File \"/home/ivan/anaconda3/envs/icook/lib/python3.7/site-packages/uvicorn/middleware/proxy_headers.py\", line 78, in __call__\n",
      "    return await self.app(scope, receive, send)\n",
      "  File \"/home/ivan/anaconda3/envs/icook/lib/python3.7/site-packages/fastapi/applications.py\", line 270, in __call__\n",
      "    await super().__call__(scope, receive, send)\n",
      "  File \"/home/ivan/anaconda3/envs/icook/lib/python3.7/site-packages/starlette/applications.py\", line 124, in __call__\n",
      "    await self.middleware_stack(scope, receive, send)\n",
      "  File \"/home/ivan/anaconda3/envs/icook/lib/python3.7/site-packages/starlette/middleware/errors.py\", line 184, in __call__\n",
      "    raise exc\n",
      "  File \"/home/ivan/anaconda3/envs/icook/lib/python3.7/site-packages/starlette/middleware/errors.py\", line 162, in __call__\n",
      "    await self.app(scope, receive, _send)\n",
      "  File \"/home/ivan/anaconda3/envs/icook/lib/python3.7/site-packages/starlette/middleware/cors.py\", line 84, in __call__\n",
      "    await self.app(scope, receive, send)\n",
      "  File \"/home/ivan/anaconda3/envs/icook/lib/python3.7/site-packages/starlette/middleware/exceptions.py\", line 79, in __call__\n",
      "    raise exc\n",
      "  File \"/home/ivan/anaconda3/envs/icook/lib/python3.7/site-packages/starlette/middleware/exceptions.py\", line 68, in __call__\n",
      "    await self.app(scope, receive, sender)\n",
      "  File \"/home/ivan/anaconda3/envs/icook/lib/python3.7/site-packages/fastapi/middleware/asyncexitstack.py\", line 21, in __call__\n",
      "    raise e\n",
      "  File \"/home/ivan/anaconda3/envs/icook/lib/python3.7/site-packages/fastapi/middleware/asyncexitstack.py\", line 18, in __call__\n",
      "    await self.app(scope, receive, send)\n",
      "  File \"/home/ivan/anaconda3/envs/icook/lib/python3.7/site-packages/starlette/routing.py\", line 706, in __call__\n",
      "    await route.handle(scope, receive, send)\n",
      "  File \"/home/ivan/anaconda3/envs/icook/lib/python3.7/site-packages/starlette/routing.py\", line 276, in handle\n",
      "    await self.app(scope, receive, send)\n",
      "  File \"/home/ivan/anaconda3/envs/icook/lib/python3.7/site-packages/starlette/routing.py\", line 66, in app\n",
      "    response = await func(request)\n",
      "  File \"/home/ivan/anaconda3/envs/icook/lib/python3.7/site-packages/fastapi/routing.py\", line 238, in app\n",
      "    dependant=dependant, values=values, is_coroutine=is_coroutine\n",
      "  File \"/home/ivan/anaconda3/envs/icook/lib/python3.7/site-packages/fastapi/routing.py\", line 163, in run_endpoint_function\n",
      "    return await dependant.call(**values)\n",
      "  File \"/home/ivan/anaconda3/envs/icook/lib/python3.7/site-packages/gradio/routes.py\", line 294, in file\n",
      "    f\"File cannot be fetched: {path}. All files must contained within the Gradio python app working directory, or be a temp file created by the Gradio python app.\"\n",
      "ValueError: File cannot be fetched: /home/ivan/Program/Inversecook/inversecooking-master/data/demo_imgs/1.jpg. All files must contained within the Gradio python app working directory, or be a temp file created by the Gradio python app.\n",
      "ERROR:    Exception in ASGI application\n",
      "Traceback (most recent call last):\n",
      "  File \"/home/ivan/anaconda3/envs/icook/lib/python3.7/site-packages/uvicorn/protocols/http/h11_impl.py\", line 408, in run_asgi\n",
      "    self.scope, self.receive, self.send\n",
      "  File \"/home/ivan/anaconda3/envs/icook/lib/python3.7/site-packages/uvicorn/middleware/proxy_headers.py\", line 78, in __call__\n",
      "    return await self.app(scope, receive, send)\n",
      "  File \"/home/ivan/anaconda3/envs/icook/lib/python3.7/site-packages/fastapi/applications.py\", line 270, in __call__\n",
      "    await super().__call__(scope, receive, send)\n",
      "  File \"/home/ivan/anaconda3/envs/icook/lib/python3.7/site-packages/starlette/applications.py\", line 124, in __call__\n",
      "    await self.middleware_stack(scope, receive, send)\n",
      "  File \"/home/ivan/anaconda3/envs/icook/lib/python3.7/site-packages/starlette/middleware/errors.py\", line 184, in __call__\n",
      "    raise exc\n",
      "  File \"/home/ivan/anaconda3/envs/icook/lib/python3.7/site-packages/starlette/middleware/errors.py\", line 162, in __call__\n",
      "    await self.app(scope, receive, _send)\n",
      "  File \"/home/ivan/anaconda3/envs/icook/lib/python3.7/site-packages/starlette/middleware/cors.py\", line 84, in __call__\n",
      "    await self.app(scope, receive, send)\n",
      "  File \"/home/ivan/anaconda3/envs/icook/lib/python3.7/site-packages/starlette/middleware/exceptions.py\", line 79, in __call__\n",
      "    raise exc\n",
      "  File \"/home/ivan/anaconda3/envs/icook/lib/python3.7/site-packages/starlette/middleware/exceptions.py\", line 68, in __call__\n",
      "    await self.app(scope, receive, sender)\n",
      "  File \"/home/ivan/anaconda3/envs/icook/lib/python3.7/site-packages/fastapi/middleware/asyncexitstack.py\", line 21, in __call__\n",
      "    raise e\n",
      "  File \"/home/ivan/anaconda3/envs/icook/lib/python3.7/site-packages/fastapi/middleware/asyncexitstack.py\", line 18, in __call__\n",
      "    await self.app(scope, receive, send)\n",
      "  File \"/home/ivan/anaconda3/envs/icook/lib/python3.7/site-packages/starlette/routing.py\", line 706, in __call__\n",
      "    await route.handle(scope, receive, send)\n",
      "  File \"/home/ivan/anaconda3/envs/icook/lib/python3.7/site-packages/starlette/routing.py\", line 276, in handle\n",
      "    await self.app(scope, receive, send)\n",
      "  File \"/home/ivan/anaconda3/envs/icook/lib/python3.7/site-packages/starlette/routing.py\", line 66, in app\n",
      "    response = await func(request)\n",
      "  File \"/home/ivan/anaconda3/envs/icook/lib/python3.7/site-packages/fastapi/routing.py\", line 238, in app\n",
      "    dependant=dependant, values=values, is_coroutine=is_coroutine\n",
      "  File \"/home/ivan/anaconda3/envs/icook/lib/python3.7/site-packages/fastapi/routing.py\", line 163, in run_endpoint_function\n",
      "    return await dependant.call(**values)\n",
      "  File \"/home/ivan/anaconda3/envs/icook/lib/python3.7/site-packages/gradio/routes.py\", line 294, in file\n",
      "    f\"File cannot be fetched: {path}. All files must contained within the Gradio python app working directory, or be a temp file created by the Gradio python app.\"\n",
      "ValueError: File cannot be fetched: /home/ivan/Program/Inversecook/inversecooking-master/data/demo_imgs/3.jpg. All files must contained within the Gradio python app working directory, or be a temp file created by the Gradio python app.\n"
     ]
    },
    {
     "name": "stderr",
     "output_type": "stream",
     "text": [
      "ERROR:    Exception in ASGI application\n",
      "Traceback (most recent call last):\n",
      "  File \"/home/ivan/anaconda3/envs/icook/lib/python3.7/site-packages/uvicorn/protocols/http/h11_impl.py\", line 408, in run_asgi\n",
      "    self.scope, self.receive, self.send\n",
      "  File \"/home/ivan/anaconda3/envs/icook/lib/python3.7/site-packages/uvicorn/middleware/proxy_headers.py\", line 78, in __call__\n",
      "    return await self.app(scope, receive, send)\n",
      "  File \"/home/ivan/anaconda3/envs/icook/lib/python3.7/site-packages/fastapi/applications.py\", line 270, in __call__\n",
      "    await super().__call__(scope, receive, send)\n",
      "  File \"/home/ivan/anaconda3/envs/icook/lib/python3.7/site-packages/starlette/applications.py\", line 124, in __call__\n",
      "    await self.middleware_stack(scope, receive, send)\n",
      "  File \"/home/ivan/anaconda3/envs/icook/lib/python3.7/site-packages/starlette/middleware/errors.py\", line 184, in __call__\n",
      "    raise exc\n",
      "  File \"/home/ivan/anaconda3/envs/icook/lib/python3.7/site-packages/starlette/middleware/errors.py\", line 162, in __call__\n",
      "    await self.app(scope, receive, _send)\n",
      "  File \"/home/ivan/anaconda3/envs/icook/lib/python3.7/site-packages/starlette/middleware/cors.py\", line 84, in __call__\n",
      "    await self.app(scope, receive, send)\n",
      "  File \"/home/ivan/anaconda3/envs/icook/lib/python3.7/site-packages/starlette/middleware/exceptions.py\", line 79, in __call__\n",
      "    raise exc\n",
      "  File \"/home/ivan/anaconda3/envs/icook/lib/python3.7/site-packages/starlette/middleware/exceptions.py\", line 68, in __call__\n",
      "    await self.app(scope, receive, sender)\n",
      "  File \"/home/ivan/anaconda3/envs/icook/lib/python3.7/site-packages/fastapi/middleware/asyncexitstack.py\", line 21, in __call__\n",
      "    raise e\n",
      "  File \"/home/ivan/anaconda3/envs/icook/lib/python3.7/site-packages/fastapi/middleware/asyncexitstack.py\", line 18, in __call__\n",
      "    await self.app(scope, receive, send)\n",
      "  File \"/home/ivan/anaconda3/envs/icook/lib/python3.7/site-packages/starlette/routing.py\", line 706, in __call__\n",
      "    await route.handle(scope, receive, send)\n",
      "  File \"/home/ivan/anaconda3/envs/icook/lib/python3.7/site-packages/starlette/routing.py\", line 276, in handle\n",
      "    await self.app(scope, receive, send)\n",
      "  File \"/home/ivan/anaconda3/envs/icook/lib/python3.7/site-packages/starlette/routing.py\", line 66, in app\n",
      "    response = await func(request)\n",
      "  File \"/home/ivan/anaconda3/envs/icook/lib/python3.7/site-packages/fastapi/routing.py\", line 238, in app\n",
      "    dependant=dependant, values=values, is_coroutine=is_coroutine\n",
      "  File \"/home/ivan/anaconda3/envs/icook/lib/python3.7/site-packages/fastapi/routing.py\", line 163, in run_endpoint_function\n",
      "    return await dependant.call(**values)\n",
      "  File \"/home/ivan/anaconda3/envs/icook/lib/python3.7/site-packages/gradio/routes.py\", line 294, in file\n",
      "    f\"File cannot be fetched: {path}. All files must contained within the Gradio python app working directory, or be a temp file created by the Gradio python app.\"\n",
      "ValueError: File cannot be fetched: /home/ivan/Program/Inversecook/inversecooking-master/data/demo_imgs/4.jpg. All files must contained within the Gradio python app working directory, or be a temp file created by the Gradio python app.\n",
      "/home/ivan/Program/Inversecook/inversecooking-master/src/modules/multihead_attention.py:128: UserWarning: masked_fill_ received a mask with dtype torch.uint8, this behavior is now deprecated,please use a mask with dtype torch.bool instead. (Triggered internally at ../aten/src/ATen/native/TensorAdvancedIndexing.cpp:1646.)\n",
      "  float('-inf'),\n"
     ]
    }
   ],
   "source": [
    "if __name__ == \"__main__\":\n",
    "    demo.launch()"
   ]
  },
  {
   "cell_type": "code",
   "execution_count": null,
   "id": "f3c81e83",
   "metadata": {},
   "outputs": [],
   "source": []
  }
 ],
 "metadata": {
  "kernelspec": {
   "display_name": "Python 3 (ipykernel)",
   "language": "python",
   "name": "python3"
  },
  "language_info": {
   "codemirror_mode": {
    "name": "ipython",
    "version": 3
   },
   "file_extension": ".py",
   "mimetype": "text/x-python",
   "name": "python",
   "nbconvert_exporter": "python",
   "pygments_lexer": "ipython3",
   "version": "3.7.16"
  }
 },
 "nbformat": 4,
 "nbformat_minor": 5
}
